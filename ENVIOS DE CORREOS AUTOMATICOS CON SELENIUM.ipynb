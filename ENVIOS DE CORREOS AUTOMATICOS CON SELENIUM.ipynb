{
 "cells": [
  {
   "cell_type": "code",
   "execution_count": null,
   "id": "d7ba60c8",
   "metadata": {},
   "outputs": [],
   "source": [
    "correo='correo_destino'\n",
    "\n",
    "def copy_file(filepath): #permite copiar archivos en la papalera \n",
    "        cmd = r\"gi '{}' | Set-Clipboard\".format(filepath) # copia el folder y el contenido \n",
    "        subprocess.run([\"powershell\", \"-command\", cmd], shell=True)\n",
    "\n",
    "def envio(correo): \n",
    "    chrome_options = uc.ChromeOptions()\n",
    "    chrome_options.add_argument(\"--disable-extensions\") # desabilitar las extenciones del driver \n",
    "    chrome_options.add_argument(\"--disable-popup-blocking\") # desabilitar lel bloqueo de cuentas del driver \n",
    "    #opciones que permiten entrar a los correos sin problemas \n",
    "    chrome_options.add_argument(\"--profile-directory=Default\")\n",
    "    chrome_options.add_argument(\"--disable-plugins-discovery\")\n",
    "    chrome_options.add_argument(\"--incognito\")\n",
    "    chrome_options.add_argument(\"user_agent=DN\")\n",
    "    browser = uc.Chrome(executable_path='C:/Users/hml10/Downloads/chromedriver.exe')\n",
    "    browser.delete_all_cookies() # eliminando los cookies del driver \n",
    "    browser.implicitly_wait(4)\n",
    "    browser.get('https://accounts.google.com/AccountChooser/identifier?service=mail&continue=https%3A%2F%2Fmail.google.com%2Fmail%2F&flowName=GlifWebSignIn&flowEntry=AccountChooser') \n",
    "    cuadro= browser.find_element(\"xpath\",'/html/body/div[1]/div[1]/div[2]/div/div[2]/div/div/div[2]/div/div[1]/div/form/span/section/div/div/div[1]/div/div[1]/div/div[1]/input') \n",
    "    user='correo_para_hacer_envios' \n",
    "    password='contraseña' \n",
    "    cuadro.send_keys(user) \n",
    "    sleep(1) \n",
    "    c_pass=browser.find_element(\"xpath\",'/html/body/div[1]/div[1]/div[2]/div/div[2]/div/div/div[2]/div/div[2]/div/div[1]/div/div/button/span').click()\n",
    "    sleep(1) \n",
    "    cuadro=  browser.find_element(\"xpath\",'/html/body/div[1]/div[1]/div[2]/div/div[2]/div/div/div[2]/div/div[1]/div/form/span/section/div/div/div[1]/div[1]/div/div/div/div/div[1]/div/div[1]/input')# insertar la contraseña \n",
    "    cuadro.send_keys(password) # colocar el password \n",
    "    sleep(1)\n",
    "    browser.find_element(\"xpath\",'/html/body/div[1]/div[1]/div[2]/div/div[2]/div/div/div[2]/div/div[2]/div/div[1]/div/div/button/span').click() \n",
    "    sleep(1)\n",
    "    browser.find_element(\"xpath\",'/html/body/div[7]/div[3]/div/div[2]/div[1]/div[1]/div/div').click()# para colocar un correo \n",
    "    sleep(1)\n",
    "    browser.find_element(\"xpath\",\".//input[@class='agP aFw']\").send_keys(correo) # ingresar el correo destino \n",
    "    browser.find_element(\"xpath\",\".//input[@class='aoT']\").send_keys(\"Resumen de precios de productos\") # asunto \n",
    "    browser.find_element(\"xpath\",\".//div[@class='Am Al editable LW-avf tS-tW']\").click()# mensaje \n",
    "    ActionChains(browser).send_keys('Estimad@ ...').perform()\n",
    "    # enviar el archivo \n",
    "    filepath = 'Nombre_del_archivo' #colocar la dirección del archivo en la pc  \n",
    "    copy_file(filepath)\n",
    "    ActionChains(browser).key_down(Keys.CONTROL).send_keys('v').key_up(Keys.CONTROL).perform()#copiar el archivo en el casillero del mensaje \n",
    "    sleep(1)\n",
    "    browser.find_element(\"xpath\",\".//div[@id=':pk']\").click()# darle click al boton de enviar \n",
    "    print(\"se envio la data con exito\") # se imprime si se hizo el envio con excito \n",
    "    sleep(4)\n",
    "    browser.close()# cerrar el driver\n",
    "    browser.quit()# quitar el driver \n",
    "envio(correo)\n"
   ]
  }
 ],
 "metadata": {
  "kernelspec": {
   "display_name": "Python 3 (ipykernel)",
   "language": "python",
   "name": "python3"
  },
  "language_info": {
   "codemirror_mode": {
    "name": "ipython",
    "version": 3
   },
   "file_extension": ".py",
   "mimetype": "text/x-python",
   "name": "python",
   "nbconvert_exporter": "python",
   "pygments_lexer": "ipython3",
   "version": "3.9.7"
  }
 },
 "nbformat": 4,
 "nbformat_minor": 5
}
